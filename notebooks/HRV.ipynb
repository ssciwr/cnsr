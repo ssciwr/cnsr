{
 "cells": [
  {
   "cell_type": "markdown",
   "id": "617206cf",
   "metadata": {},
   "source": [
    "## Participant-level analysis pipeline for calculating HRV\n",
    "\n",
    "<span style='color: blue'>Version 1.1 (2023-07-28)<br></span>Dr. Daniel Holt (APKS) and Dr. Torsten Wüstenberg (CNSR)\n",
    "\n",
    "**Aim:** Calculate resting HRV for ECG data from BrainVision data file.\n",
    "\n",
    "**Gereral analysis steps:**\n",
    "\n",
    "1. *Select and load data for analysis*\n",
    "2. *Determine resting period*\n",
    "3. *Data overview*\n",
    "4. *Correct residual artifacts*\n",
    "5. *Calculate and save HRV analysis*\n",
    "\n",
    "\n",
    "## Preparations \n",
    "\n",
    "### Import libraries\n",
    "\n",
    "The analysis pipeline is based on the following libraries. In case of an error in the execution of this cell, probably one or more of the libraries is not installed. In this case, start a terminal in **ANACONDA.NAVIGATOR** *Environments>Terminal* and install the library in question using the command </br><span style='color: red'>*pip install [library name]*</span>."
   ]
  },
  {
   "cell_type": "code",
   "execution_count": null,
   "id": "67da9bf5",
   "metadata": {},
   "outputs": [],
   "source": [
    "import mne\n",
    "import neurokit2 as nk\n",
    "import numpy as np\n",
    "import pandas as pd\n",
    "import matplotlib.pyplot as plt\n",
    "import ipyfilechooser\n",
    "\n",
    "mne.set_log_level(\"ERROR\")  # only show errors (no warnings or information messages)\n",
    "results_csv = \"HRV_Results.csv\"  # save analysis results to this file"
   ]
  },
  {
   "cell_type": "markdown",
   "id": "c9b6f232",
   "metadata": {},
   "source": [
    "## Pipeline\n",
    "\n",
    "### 1) Select and load data for analysis\n",
    "\n",
    "Run the cell below and click \"Select\" to choose the BrainVision **.vhdr** file of the data set to be analyzed. The participant ID defaults to the file name, change the line `participant = ...` for setting a different value."
   ]
  },
  {
   "cell_type": "code",
   "execution_count": null,
   "id": "0e3be582",
   "metadata": {},
   "outputs": [],
   "source": [
    "fc = ipyfilechooser.FileChooser(\".\")\n",
    "display(fc)"
   ]
  },
  {
   "cell_type": "code",
   "execution_count": null,
   "id": "b10f8eeb",
   "metadata": {},
   "outputs": [],
   "source": [
    "%matplotlib qt\n",
    "participant = fc.selected_filename[-8:-5]\n",
    "raw = mne.io.read_raw_brainvision(fc.selected, preload=True)\n",
    "raw.pick([\"ECG\"])\n",
    "raw.filter(picks=[\"ECG\"], l_freq=1, h_freq=None)\n",
    "raw.plot(scalings=2e-3, duration=30)"
   ]
  },
  {
   "cell_type": "markdown",
   "id": "7423963a",
   "metadata": {},
   "source": [
    "### 1) Determine resting period\n",
    "\n",
    "Resting period starts at marker \"Stimulus S/ 10\" and lasts for eight minutes (480 secs)."
   ]
  },
  {
   "cell_type": "code",
   "execution_count": null,
   "id": "5c472894",
   "metadata": {},
   "outputs": [],
   "source": [
    "start_event, _ = mne.events_from_annotations(raw, regexp=\".*10$\")\n",
    "start_time = start_event[0, 0] / 500  # 500 Hz sampling rate\n",
    "end_time = start_time + 480\n",
    "raw.crop(start_time - 0.1, end_time)  # start 0.1 sec earlier to include first marker\n",
    "raw.plot(scalings=2e-3, duration=30)"
   ]
  },
  {
   "cell_type": "markdown",
   "id": "d1b974e6",
   "metadata": {},
   "source": [
    "### 2) Data overview\n",
    "\n",
    "General overview of data and peak detection. Screen for (uncorrected) artifacts and unusual data."
   ]
  },
  {
   "cell_type": "code",
   "execution_count": null,
   "id": "0e8f0395",
   "metadata": {},
   "outputs": [],
   "source": [
    "ecg_raw = raw.get_data(\"ECG\")[0]\n",
    "ecg_preclean = nk.ecg_clean(ecg_raw, sampling_rate=500)\n",
    "signals, info = nk.ecg_process(ecg_preclean, sampling_rate=500)\n",
    "peaks = info[\"ECG_R_Peaks\"]\n",
    "\n",
    "peaks_signal, info = nk.ecg_peaks(\n",
    "    ecg_preclean, sampling_rate=500, correct_artifacts=True\n",
    ")\n",
    "nk.hrv(peaks_signal, sampling_rate=500, show=True)\n",
    "nk.ecg_plot(signals, sampling_rate=500, show_type=\"default\")"
   ]
  },
  {
   "cell_type": "markdown",
   "id": "c2c7fb71",
   "metadata": {},
   "source": [
    "### 3) Correct residual artifacts\n",
    "\n",
    "Show unusual IBIs/successive differences not fixed by automatic artifact correction for closer inspection (screening criterion: 3 SDs). Drop from analysis or set to interpolated value."
   ]
  },
  {
   "cell_type": "code",
   "execution_count": null,
   "id": "5c0ca96f",
   "metadata": {},
   "outputs": [],
   "source": [
    "ibi = np.diff(peaks) * 2  # 500 Hz sampling rate\n",
    "sdif = np.diff(ibi)\n",
    "\n",
    "fig, (ax1, ax2) = plt.subplots(1, 2)\n",
    "fig.set_figwidth(10)\n",
    "n, bins, patches = ax1.hist(ibi, np.arange(500, 1501, 50))\n",
    "ax1.set_title(\"Inter-beat intervals\")\n",
    "ax1.vlines(\n",
    "    ibi.mean() + [-3 * ibi.std(), 3 * ibi.std()],\n",
    "    *ax1.get_ylim(),\n",
    "    colors=\"red\",\n",
    "    linestyles=\"dashed\",\n",
    ")\n",
    "ax2.hist(sdif)\n",
    "ax2.set_title(\"Successive differences\")\n",
    "ax2.vlines(\n",
    "    [-3 * sdif.std(), 3 * sdif.std()],\n",
    "    *ax2.get_ylim(),\n",
    "    colors=\"red\",\n",
    "    linestyles=\"dashed\",\n",
    ")"
   ]
  },
  {
   "cell_type": "code",
   "execution_count": null,
   "id": "429dd45f",
   "metadata": {},
   "outputs": [],
   "source": [
    "unusual_sdifs = np.where(abs(sdif) > 3 * sdif.std())[0]\n",
    "# mark peak samples from which unusual sdifs are calculated\n",
    "mark_peaks = np.repeat(unusual_sdifs, 3) + np.tile([0, 1, 2], len(unusual_sdifs))\n",
    "events = np.array(\n",
    "    list(zip(peaks[mark_peaks] - 10, [0] * 3 * len(unusual_sdifs), mark_peaks))\n",
    ")\n",
    "raw.set_annotations(mne.annotations_from_events(events, 500))\n",
    "raw.plot(scalings=2e-3, duration=30)"
   ]
  },
  {
   "cell_type": "code",
   "execution_count": null,
   "id": "f691bb64",
   "metadata": {},
   "outputs": [],
   "source": [
    "exclude_input = input(\n",
    "    \"Peaks von Analyse ausschliessen (Peak-Index durch Kommata getrennt): \"\n",
    ")"
   ]
  },
  {
   "cell_type": "code",
   "execution_count": null,
   "id": "49453943",
   "metadata": {},
   "outputs": [],
   "source": [
    "exclude_ibi = [int(sample) - 1 for sample in exclude_input.split()]\n",
    "ibi_del = np.delete(ibi, exclude_ibi)\n",
    "peaks_adj = nk.intervals_to_peaks(ibi_del)"
   ]
  },
  {
   "cell_type": "markdown",
   "id": "180e086a",
   "metadata": {},
   "source": [
    "### 3) Calculate and save HRV indices\n",
    "\n",
    "Calculate several HRV indeces for the resting perios using NeuroKit. Scr"
   ]
  },
  {
   "cell_type": "code",
   "execution_count": null,
   "id": "e0ff0f3f",
   "metadata": {},
   "outputs": [],
   "source": [
    "hrv_analysis = nk.hrv(peaks_adj, show=True)[\n",
    "    [\"HRV_MeanNN\", \"HRV_RMSSD\", \"HRV_HF\", \"HRV_LF\"]\n",
    "].round(5)\n",
    "hrv_analysis.insert(0, \"PID\", participant)\n",
    "results = pd.read_csv(results_csv)\n",
    "results = pd.concat([results, hrv_analysis])\n",
    "results.to_csv(results_csv, index=False)\n",
    "print(f'Analyse-Ergebnis in \"{results_csv}\" gespeichert.')\n",
    "results"
   ]
  },
  {
   "cell_type": "code",
   "execution_count": null,
   "id": "96581575",
   "metadata": {},
   "outputs": [],
   "source": []
  }
 ],
 "metadata": {
  "kernelspec": {
   "display_name": "Python 3 (ipykernel)",
   "language": "python",
   "name": "python3"
  },
  "language_info": {
   "codemirror_mode": {
    "name": "ipython",
    "version": 3
   },
   "file_extension": ".py",
   "mimetype": "text/x-python",
   "name": "python",
   "nbconvert_exporter": "python",
   "pygments_lexer": "ipython3",
   "version": "3.11.4"
  }
 },
 "nbformat": 4,
 "nbformat_minor": 5
}
