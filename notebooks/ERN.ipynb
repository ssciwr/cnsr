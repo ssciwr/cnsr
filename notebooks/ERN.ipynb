{
 "cells": [
  {
   "cell_type": "markdown",
   "id": "617206cf",
   "metadata": {},
   "source": [
    "## Participant-level analysis pipeline for calculating ERN in the SART task\n",
    "\n",
    "<span style='color: blue'>Version 1.1 (2023-07-24)<br></span>Dr. Daniel Holt (APKS) and Dr. Torsten Wüstenberg (CNSR)\n",
    "\n",
    "**Aim:** Calculate the ERN/CRN for the SART Go/NoGo-Task.\n",
    "\n",
    "**Gereral analysis steps:**\n",
    "\n",
    "1) *Select and load data for analysis*\n",
    "2) *Re-reference and pre-filter*\n",
    "3) *Ocular artifact corection*\n",
    "4) *Calculate CRN*\n",
    "5) *Calculate ERN*\n",
    "6) *Extract means and save results*\n",
    "\n",
    "\n",
    "## Preparations \n",
    "\n",
    "### Import libraries\n",
    "\n",
    "The analysis pipeline is based on the following libraries. In case of an error in the execution of this cell, probably one or more of the libraries is not installed. In this case, start a terminal in **ANACONDA.NAVIGATOR** *Environments>Terminal* and install the library in question using the command </br><span style='color: red'>*pip install [library name]*</span>."
   ]
  },
  {
   "cell_type": "code",
   "execution_count": null,
   "id": "e05bcd11",
   "metadata": {},
   "outputs": [],
   "source": [
    "import mne\n",
    "import numpy as np\n",
    "import pandas as pd\n",
    "import ipyfilechooser\n",
    "\n",
    "mne.set_log_level(\"ERROR\")  # only show errors (no warnings or information messages)\n",
    "results_csv = \"ERN_Results.csv\"  # save analysis results to this file\n",
    "scal = {\n",
    "    \"eeg\": 100e-6,\n",
    "    \"misc\": 100e-6,\n",
    "}  # default display scaling, use e-6 for display in microvolts"
   ]
  },
  {
   "cell_type": "markdown",
   "id": "565d20e1",
   "metadata": {},
   "source": [
    "### Channel information and display configuration"
   ]
  },
  {
   "cell_type": "code",
   "execution_count": null,
   "id": "1fb1de1d",
   "metadata": {},
   "outputs": [],
   "source": [
    "%matplotlib qt\n",
    "ch_type_mapping = {\"VEOG\": \"eog\", \"ECG\": \"ecg\", \"EMG\": \"emg\"}\n",
    "scal = {\"eeg\": 200e-6, \"eog\": 1000e-6}  # use e-6 for display in microvolts"
   ]
  },
  {
   "cell_type": "markdown",
   "id": "c9b6f232",
   "metadata": {},
   "source": [
    "## Pipeline\n",
    "\n",
    "### 1) Select and load data for analysis\n",
    "\n",
    "Run the cell below and click \"Select\" to choose the BrainVision **.vhdr** file of the data set to be analyzed. The participant ID defaults to the file name, change the line `participant = ...` for setting a different value."
   ]
  },
  {
   "cell_type": "code",
   "execution_count": null,
   "id": "0e3be582",
   "metadata": {},
   "outputs": [],
   "source": [
    "fc = ipyfilechooser.FileChooser(\".\")\n",
    "display(fc)"
   ]
  },
  {
   "cell_type": "code",
   "execution_count": null,
   "id": "b10f8eeb",
   "metadata": {},
   "outputs": [],
   "source": [
    "participant = fc.selected_filename[-8:-5]\n",
    "raw = mne.io.read_raw_brainvision(fc.selected, preload=True)\n",
    "raw.set_channel_types(ch_type_mapping)"
   ]
  },
  {
   "cell_type": "markdown",
   "id": "f4a6664f",
   "metadata": {},
   "source": [
    "### 2) Re-reference and pre-filter\n",
    "\n",
    "Re-reference from recording reference Cz to TP9 and TP10, apply a basic filter."
   ]
  },
  {
   "cell_type": "code",
   "execution_count": null,
   "id": "77e51ce5",
   "metadata": {},
   "outputs": [],
   "source": [
    "raw.add_reference_channels(\"Cz\")\n",
    "raw.set_eeg_reference([\"TP9\", \"TP10\"])\n",
    "raw.drop_channels([\"TP9\", \"TP10\"])\n",
    "raw.filter(l_freq=0.1, h_freq=None)\n",
    "raw.plot(scalings=scal)"
   ]
  },
  {
   "cell_type": "markdown",
   "id": "3fc16ba8",
   "metadata": {},
   "source": [
    "### 3) Simple ICA-based ocular artifact reduction\n",
    "\n",
    "\n",
    "Fit ICA in data segment with stimulus events (markers 11 to 189), select component with highest correlation with VEOG for correction. This processing step may take a while."
   ]
  },
  {
   "cell_type": "code",
   "execution_count": null,
   "id": "90148295",
   "metadata": {},
   "outputs": [],
   "source": [
    "events, _ = mne.events_from_annotations(raw)\n",
    "events = [event for event in events if event[2] in range(11, 189) and event[0] > 5000]\n",
    "raw_ica = raw.copy().filter(l_freq=1.0, h_freq=None)\n",
    "raw_ica.crop(events[0][0] / 500.0, events[-1][0] / 500.0)\n",
    "\n",
    "ica = mne.preprocessing.ICA(n_components=15, max_iter=\"auto\", random_state=999)\n",
    "ica.fit(raw_ica)\n",
    "\n",
    "_, scores_eog = ica.find_bads_eog(raw_ica, \"VEOG\")\n",
    "eog_maxcorr_idx = np.argmax(abs(scores_eog))\n",
    "ica.exclude = [eog_maxcorr_idx]\n",
    "clean = raw.copy()\n",
    "ica.apply(clean)\n",
    "\n",
    "ica.plot_components(\n",
    "    title=f\"Component selected for ocular artifact correction: {ica._ica_names[eog_maxcorr_idx]}\"\n",
    ")"
   ]
  },
  {
   "cell_type": "markdown",
   "id": "1ee3e4fb",
   "metadata": {},
   "source": [
    "### 4) Calculate CRN\n",
    "\n",
    "Calculate correct-response related negativity for go-trials. Marker code of correct go-trials ends with \"2\". Reject epochs with more than 200 uV amplitude difference. Baseline is set to -.4 to -.2. Mark bad epochs for exclusion in the plot."
   ]
  },
  {
   "cell_type": "code",
   "execution_count": null,
   "id": "da566349",
   "metadata": {},
   "outputs": [],
   "source": [
    "clean.filter(l_freq=0.1, h_freq=30)\n",
    "\n",
    "go_events, _ = mne.events_from_annotations(clean, regexp=\".*2$\")\n",
    "go_epochs = mne.Epochs(clean, go_events, tmin=-0.4, tmax=0.8, detrend=0)\n",
    "go_epochs.drop_bad(reject={\"eeg\": 200e-6})\n",
    "go_epochs.apply_baseline(((-0.4, -0.2)))\n",
    "go_averages = go_epochs.average(picks=[\"Fz\", \"FCz\", \"Cz\"])\n",
    "\n",
    "go_epochs.plot(scalings=50e-6)\n",
    "go_averages.plot_joint(times=[0, 0.05, 0.1], show=False)"
   ]
  },
  {
   "cell_type": "code",
   "execution_count": null,
   "id": "e5dcd2a0",
   "metadata": {},
   "outputs": [],
   "source": [
    "go_epochs_marked = len(\n",
    "    [drop for drop in go_epochs.drop_log if drop and drop[0] == \"USER\"]\n",
    ")\n",
    "print(\n",
    "    f\"{go_epochs_marked} von {len(go_epochs) + go_epochs_marked} Go-Epochen manuell ausgeschlossen.\"\n",
    ")"
   ]
  },
  {
   "cell_type": "markdown",
   "id": "7362d5fc",
   "metadata": {},
   "source": [
    "### 5) Calculate ERN\n",
    "\n",
    "Calculate error-related negativity for nogo-trials with errors. Marker code of error-trials ends with \"6\"."
   ]
  },
  {
   "cell_type": "code",
   "execution_count": null,
   "id": "7ee18d80",
   "metadata": {},
   "outputs": [],
   "source": [
    "nogo_events, _ = mne.events_from_annotations(clean, regexp=\".*6$\")\n",
    "nogo_epochs = mne.Epochs(clean, nogo_events, tmin=-0.4, tmax=0.8, detrend=0)\n",
    "nogo_epochs.drop_bad(reject={\"eeg\": 200e-6})\n",
    "nogo_epochs.apply_baseline(((-0.4, -0.2)))\n",
    "nogo_averages = nogo_epochs.average(picks=[\"Fz\", \"FCz\", \"Cz\"])\n",
    "\n",
    "nogo_epochs.plot(scalings=50e-6)\n",
    "nogo_averages.plot_joint(times=[0, 0.05, 0.1], show=False)\n",
    "nogo_epochs_marked = len(\n",
    "    [drop for drop in nogo_epochs.drop_log if drop and drop[0] == \"USER\"]\n",
    ")"
   ]
  },
  {
   "cell_type": "code",
   "execution_count": null,
   "id": "13bef38f",
   "metadata": {},
   "outputs": [],
   "source": [
    "nogo_epochs_marked = len(\n",
    "    [drop for drop in go_epochs.drop_log if drop and drop[0] == \"USER\"]\n",
    ")\n",
    "print(\n",
    "    f\"{nogo_epochs_marked} von {len(nogo_epochs) + nogo_epochs_marked} Go-Epochen manuell ausgeschlossen.\"\n",
    ")"
   ]
  },
  {
   "cell_type": "markdown",
   "id": "a94d1678",
   "metadata": {},
   "source": [
    "### 6) Extract and save mean ERPs\n",
    "\n",
    "Calcuate mean amplitude at FCz for 0 to 100 msec in each epoch."
   ]
  },
  {
   "cell_type": "code",
   "execution_count": null,
   "id": "b91617e1",
   "metadata": {},
   "outputs": [],
   "source": [
    "erp_analysis = {\n",
    "    \"PID\": participant,\n",
    "    \"ERN\": (np.mean(nogo_averages.get_data(\"FCz\")[0, 200:250]) * 1e6).round(3),\n",
    "    \"ERN_n\": len(nogo_epochs),\n",
    "    \"CRN\": (np.mean(go_averages.get_data(\"FCz\")[0, 200:250]) * 1e6).round(3),\n",
    "    \"CRN_n\": len(go_epochs),\n",
    "}"
   ]
  },
  {
   "cell_type": "code",
   "execution_count": null,
   "id": "7f905006",
   "metadata": {},
   "outputs": [],
   "source": [
    "results = pd.read_csv(results_csv)\n",
    "erp_analysis_df = pd.DataFrame(erp_analysis, index=[0])\n",
    "results = pd.concat([results, erp_analysis_df])\n",
    "results.to_csv(results_csv, index=False)\n",
    "print(f'Analyse-Ergebnis in \"{results_csv}\" gespeichert.')\n",
    "results"
   ]
  },
  {
   "cell_type": "code",
   "execution_count": null,
   "id": "ad70265a",
   "metadata": {},
   "outputs": [],
   "source": []
  }
 ],
 "metadata": {
  "kernelspec": {
   "display_name": "Python 3 (ipykernel)",
   "language": "python",
   "name": "python3"
  },
  "language_info": {
   "codemirror_mode": {
    "name": "ipython",
    "version": 3
   },
   "file_extension": ".py",
   "mimetype": "text/x-python",
   "name": "python",
   "nbconvert_exporter": "python",
   "pygments_lexer": "ipython3",
   "version": "3.11.4"
  }
 },
 "nbformat": 4,
 "nbformat_minor": 5
}
