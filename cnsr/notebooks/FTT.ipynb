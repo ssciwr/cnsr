{
 "cells": [
  {
   "cell_type": "markdown",
   "id": "a8b6ae85",
   "metadata": {},
   "source": [
    "## Subject-level analysis pipeline for FTT-fNIRs-data\n",
    "\n",
    "<font color='blue'>Version 1.0 (2023-06-18),<br>Version 2.0 (2023-07-08),<br>Version 2.1 (2023-07-09),<br>Version 2.2 (2023-07-10),<br></font> Dr. Torsten Wüstenberg (CNSR)\n",
    "\n",
    "**Aim:** Preprocessing, artifact reduction and subject-level modeling of data for a single fNIRS measurement.\n",
    "\n",
    "**Gereral analysis steps:**\n",
    "\n",
    "1. *Specify data for analysis*\n",
    "2. *Load data for analysis*\n",
    "3. *Convert raw data values into optical densities*\n",
    "4. *Data quality assessment: </br>- compute and assess scalp coupling index</br>- semi automatic rejection of bad channels*\n",
    "5. *Artefact reduction*\n",
    "6. *Converting from optical density to haemoglobin*\n",
    "7. *Modelling:</br>- model specification</br>- model fitting</br>- writing model parameter estimates to table*"
   ]
  },
  {
   "cell_type": "markdown",
   "id": "378679a6",
   "metadata": {},
   "source": [
    "## Preparations ---------------------------------------------------------------------"
   ]
  },
  {
   "cell_type": "markdown",
   "id": "00e35bce",
   "metadata": {},
   "source": [
    "### Import libraries\n",
    "The analysis pipeline is based on the following libraries. In case of an error in the execution of this cell, probably one or more of the libraries is not installed. In this case, start a terminal in **ANACONDS.NAVIGATOR** *Environments>Terminal* and install the library in question using the command </br><font color='red'>*pip install [library name]*</font>."
   ]
  },
  {
   "cell_type": "code",
   "execution_count": null,
   "id": "894e26c6",
   "metadata": {},
   "outputs": [],
   "source": [
    "import warnings  # switch of pandas and mne warnings\n",
    "\n",
    "warnings.simplefilter(action=\"ignore\")\n",
    "import matplotlib.pyplot as plt  # general plotting functions\n",
    "\n",
    "%matplotlib qt\n",
    "import mne  # core library for neurophysiological data analyses\n",
    "import numpy as np  # general mathematical functions\n",
    "import pandas as pd  # general table functions\n",
    "import os  # general file and directory handling functions\n",
    "from itertools import compress  # general iteration tool\n",
    "\n",
    "# fNIRS specific mne-objercts\n",
    "import mne_nirs\n",
    "from mne_nirs.experimental_design import make_first_level_design_matrix\n",
    "from mne_nirs.statistics import run_glm\n",
    "from nilearn.plotting import plot_design_matrix\n",
    "from nilearn.glm import first_level"
   ]
  },
  {
   "cell_type": "markdown",
   "id": "6f27ffde",
   "metadata": {},
   "source": [
    "### Define ROIs\n",
    "Optical channels, pooled for different regions of interest (ROIs)"
   ]
  },
  {
   "cell_type": "code",
   "execution_count": null,
   "id": "78e84ec0",
   "metadata": {},
   "outputs": [],
   "source": [
    "leftMotor = [\n",
    "    \"S1_D1 hbo\",\n",
    "    \"S1_D2 hbo\",\n",
    "    \"S1_D3 hbo\",\n",
    "    \"S2_D1 hbo\",\n",
    "    \"S2_D3 hbo\",\n",
    "    \"S2_D4 hbo\",\n",
    "    \"S3_D2 hbo\",\n",
    "    \"S3_D3 hbo\",\n",
    "    \"S4_D3 hbo\",\n",
    "    \"S4_D4 hbo\",\n",
    "]\n",
    "rightMotor = [\n",
    "    \"S5_D5 hbo\",\n",
    "    \"S5_D6 hbo\",\n",
    "    \"S5_D7 hbo\",\n",
    "    \"S6_D5 hbo\",\n",
    "    \"S6_D7 hbo\",\n",
    "    \"S6_D8 hbo\",\n",
    "    \"S7_D6 hbo\",\n",
    "    \"S7_D7 hbo\",\n",
    "    \"S8_D7 hbo\",\n",
    "    \"S8_D8 hbo\",\n",
    "]\n",
    "leftFrontal = [\n",
    "    \"S9_D9 hbo\",\n",
    "    \"S9_D10 hbo\",\n",
    "    \"S10_D9 hbo\",\n",
    "    \"S10_D11 hbo\",\n",
    "    \"S11_D9 hbo\",\n",
    "    \"S11_D11 hbo\",\n",
    "    \"S11_D12 hbo\",\n",
    "    \"S12_D10 hbo\",\n",
    "    \"S13_D11 hbo\",\n",
    "]\n",
    "rightFrontal = [\n",
    "    \"S12_D13 hbo\",\n",
    "    \"S13_D14 hbo\",\n",
    "    \"S14_D12 hbo\",\n",
    "    \"S14_D14 hbo\",\n",
    "    \"S14_D15 hbo\",\n",
    "    \"S15_D13 hbo\",\n",
    "    \"S15_D15 hbo\",\n",
    "    \"S16_D14 hbo\",\n",
    "    \"S16_D15 hbo\",\n",
    "]\n",
    "medialFrontal = [\"S12_D12 hbo\", \"S13_D12 hbo\"]"
   ]
  },
  {
   "cell_type": "markdown",
   "id": "8fc158d6",
   "metadata": {},
   "source": [
    "### Prepare results output structure\n",
    "Data frame for model parameter estimates"
   ]
  },
  {
   "cell_type": "code",
   "execution_count": null,
   "id": "fd762a1f",
   "metadata": {},
   "outputs": [],
   "source": [
    "fNIRSresHbO = pd.read_excel(\"FTT_fNIRS_results.xlsx\")"
   ]
  },
  {
   "cell_type": "markdown",
   "id": "387105fa",
   "metadata": {},
   "source": [
    "## Pipeline ---------------------------------------------------------------------------------\n",
    "### 1. Specify data for analysis\n",
    "Three inputs are required! All Inputs are case sensitive! Directories with subject data should be in the same directory as the notebook and having the following structure:</br>\n",
    "SID</br>\n",
    " |-HIIT    > data folders</br>\n",
    " |-nonHIIT > data folders"
   ]
  },
  {
   "cell_type": "code",
   "execution_count": null,
   "id": "0110d90d",
   "metadata": {},
   "outputs": [],
   "source": [
    "sid = input(\"SID:\")\n",
    "condition = input(\"Condition (HIIT, nonHIIT): \")\n",
    "session = input(\"Session ([T]raining, [R]etention, [C]ontrol): \")"
   ]
  },
  {
   "cell_type": "code",
   "execution_count": null,
   "id": "bdf27399",
   "metadata": {},
   "outputs": [],
   "source": [
    "dataDir = (\n",
    "    os.getcwd()\n",
    "    + os.sep\n",
    "    + \"Data\"\n",
    "    + os.sep\n",
    "    + sid\n",
    "    + os.sep\n",
    "    + condition\n",
    "    + os.sep\n",
    "    + fNIRSresHbO[fNIRSresHbO.SID == sid][condition + \"(\" + session + \")\"].to_string(\n",
    "        index=False\n",
    "    )\n",
    ")\n",
    "dataDir"
   ]
  },
  {
   "cell_type": "markdown",
   "id": "3d0bdd5d",
   "metadata": {},
   "source": [
    "### 2. Loading data for analysis"
   ]
  },
  {
   "cell_type": "code",
   "execution_count": null,
   "id": "49a164f4",
   "metadata": {},
   "outputs": [],
   "source": [
    "raw_intensity = mne.io.read_raw_nirx(dataDir, verbose=True)\n",
    "raw_intensity.load_data()"
   ]
  },
  {
   "cell_type": "markdown",
   "id": "c050a918",
   "metadata": {},
   "source": [
    "Set block duration and show raw data (only for visual sanity check)"
   ]
  },
  {
   "cell_type": "code",
   "execution_count": null,
   "id": "6a8f0781",
   "metadata": {},
   "outputs": [],
   "source": [
    "dur = [\"30\", \"30\", \"30\", \"30\", \"30\", \"30\", \"30\", \"30\", \"30\", \"30\", \"30\", \"30\"]\n",
    "des = [\"1\", \"1\", \"1\", \"2\", \"2\", \"2\", \"3\", \"3\", \"3\", \"4\", \"4\", \"4\"]\n",
    "\n",
    "my_annot = mne.Annotations(\n",
    "    onset=raw_intensity.annotations.onset,\n",
    "    duration=dur[0 : len(raw_intensity.annotations)],\n",
    "    description=des[0 : len(raw_intensity.annotations)],\n",
    ")\n",
    "raw_intensity.set_annotations(my_annot)"
   ]
  },
  {
   "cell_type": "code",
   "execution_count": null,
   "id": "bcc64dbe",
   "metadata": {},
   "outputs": [],
   "source": [
    "raw_intensity.plot(duration=len(raw_intensity))"
   ]
  },
  {
   "cell_type": "markdown",
   "id": "2fe5b406",
   "metadata": {},
   "source": [
    "### 3. Converting from raw intensity to optical density"
   ]
  },
  {
   "cell_type": "code",
   "execution_count": null,
   "id": "cc8227c5",
   "metadata": {},
   "outputs": [],
   "source": [
    "raw_od = mne.preprocessing.nirs.optical_density(raw_intensity)\n",
    "raw_od.plot(duration=len(raw_intensity))"
   ]
  },
  {
   "cell_type": "markdown",
   "id": "9e9acfed",
   "metadata": {},
   "source": [
    "### 4. Data quality assessment\n",
    "\n",
    "**The most important quality criterion for fNIRS data is a clearly visible heartbeat pattern in the signal.** Channels that lack this pattern and/or have a high number of artifacts should be removed either manually by visual inspection or automatically by calculating the **Scalp Coulpling Index (sci).** This method looks for the presence of a prominent synchronous signal (the heart rate) in the frequency range of the cardiac signals in both photodetected signals. The sci ranges from 0 (no optical transmission along an optical path) to 1 (complete optical transmission). All channels with sci value less than 0.5 should be removed. **We suggest a combined approach for the best possible result.**"
   ]
  },
  {
   "cell_type": "markdown",
   "id": "727448f2",
   "metadata": {},
   "source": [
    "#### Computing the scalp coupling index (sci)"
   ]
  },
  {
   "cell_type": "code",
   "execution_count": null,
   "id": "e048397f",
   "metadata": {},
   "outputs": [],
   "source": [
    "sci = mne.preprocessing.nirs.scalp_coupling_index(raw_od)\n",
    "plt.figure()\n",
    "plt.hist(sci)\n",
    "plt.xlabel(\"Scalp Coupling Index\")\n",
    "plt.ylabel(\"Count\")\n",
    "plt.show()"
   ]
  },
  {
   "cell_type": "markdown",
   "id": "38f02481",
   "metadata": {},
   "source": [
    "#### Labeling all channes with an sci < 0.6 as bad"
   ]
  },
  {
   "cell_type": "code",
   "execution_count": null,
   "id": "0e2a59c2",
   "metadata": {},
   "outputs": [],
   "source": [
    "raw_od.info[\"bads\"] = raw_od.info[\"bads\"] + list(compress(raw_od.ch_names, sci < 0.5))\n",
    "print(f'Bad channels: {raw_od.info[\"bads\"]}')"
   ]
  },
  {
   "cell_type": "markdown",
   "id": "0afb1c28",
   "metadata": {},
   "source": [
    "### 5. Artefact reduchtion\n",
    "**Apply temporal derivative distribution repair**\n",
    "\n",
    "This approach corrects baseline shift and spike artifacts without the need for any user-supplied parameters Fishburn et al.,2019.\n",
    "\n",
    "*Frank A Fishburn, Ruth S Ludlum, Chandan J Vaidya, and Andrei V Medvedev. Temporal derivative distribution repair (tddr): a motion correction method for fNIRS. NeuroImage, 184:171–179, 2019. doi:10.1016/j.neuroimage.2018.09.025*\n"
   ]
  },
  {
   "cell_type": "code",
   "execution_count": null,
   "id": "70c8a5fa",
   "metadata": {},
   "outputs": [],
   "source": [
    "corrected_od = mne.preprocessing.nirs.temporal_derivative_distribution_repair(raw_od)\n",
    "corrected_od.plot(duration=len(raw_intensity))"
   ]
  },
  {
   "cell_type": "markdown",
   "id": "d69d45fd",
   "metadata": {},
   "source": [
    "### 5. Converting from optical density to haemoglobin\n",
    "Convert the optical density data to haemoglobin concentration using the modified Beer-Lambert law."
   ]
  },
  {
   "cell_type": "code",
   "execution_count": null,
   "id": "d9052d7f",
   "metadata": {},
   "outputs": [],
   "source": [
    "raw_haemo = mne.preprocessing.nirs.beer_lambert_law(corrected_od, ppf=0.1)\n",
    "raw_haemo.plot(duration=len(raw_intensity))"
   ]
  },
  {
   "cell_type": "markdown",
   "id": "ef2c927e",
   "metadata": {},
   "source": [
    "### 6. Modelling\n",
    "**Specify GLM: data, conditions, durations, hrf-model (e.g. glover or spm) and filter parameters as follows:**</br>\n",
    "The cutoff period (1/high_pass) should be set as the longest period between two trials of the same condition multiplied by 2. For instance, if the longest period is 32s, the high_pass frequency shall be 1/64 Hz ~ 0.016 Hz. In the case of 30 seconds tapping and 30 seconds rest the inter-block-period is 60 secons*2 = 120 seconds --> 1/120 sec = 0.0083333 Hz "
   ]
  },
  {
   "cell_type": "code",
   "execution_count": null,
   "id": "5f2c0a4f",
   "metadata": {},
   "outputs": [],
   "source": [
    "design_matrix = make_first_level_design_matrix(\n",
    "    raw_haemo,\n",
    "    drift_model=\"cosine\",\n",
    "    high_pass=0.008,  # Must be specified per experiment\n",
    "    hrf_model=\"glover\",\n",
    "    stim_dur=30.0,\n",
    ")"
   ]
  },
  {
   "cell_type": "markdown",
   "id": "f158e5c9",
   "metadata": {},
   "source": [
    "#### Displaying the design matrix"
   ]
  },
  {
   "cell_type": "code",
   "execution_count": null,
   "id": "b3bb94aa",
   "metadata": {},
   "outputs": [],
   "source": [
    "fig, ax1 = plt.subplots(figsize=(10, 6), nrows=1, ncols=1)\n",
    "fig = plot_design_matrix(design_matrix, ax=ax1)\n",
    "plt.show()"
   ]
  },
  {
   "cell_type": "markdown",
   "id": "ceeeac77",
   "metadata": {},
   "source": [
    "#### Fitting the model"
   ]
  },
  {
   "cell_type": "code",
   "execution_count": null,
   "id": "90ff1d37",
   "metadata": {},
   "outputs": [],
   "source": [
    "glm_est = run_glm(raw_haemo, design_matrix)"
   ]
  },
  {
   "cell_type": "markdown",
   "id": "95c4cce6",
   "metadata": {},
   "source": [
    "#### Displaying the results (only for good channels)"
   ]
  },
  {
   "cell_type": "code",
   "execution_count": null,
   "id": "4cf5d598",
   "metadata": {},
   "outputs": [],
   "source": [
    "cond = []\n",
    "for ii in raw_haemo.annotations:\n",
    "    if ii[\"description\"] not in cond:\n",
    "        cond.append(ii[\"description\"])\n",
    "\n",
    "glmReduced = glm_est.copy().pick(picks=\"hbo\", exclude=\"bads\")\n",
    "fig, ax = plt.subplots(nrows=1, ncols=len(cond), figsize=(len(cond) * 5, 6))\n",
    "\n",
    "if len(cond) > 1:\n",
    "    for ii in range(0, len(cond)):\n",
    "        glmReduced.copy().pick(picks=leftMotor).plot_topo(\n",
    "            conditions=cond[ii], axes=ax[ii], colorbar=False, vlim=(-50, 50)\n",
    "        )\n",
    "        glmReduced.copy().pick(picks=rightMotor).plot_topo(\n",
    "            conditions=cond[ii], axes=ax[ii], colorbar=False, vlim=(-50, 50)\n",
    "        )\n",
    "        glmReduced.copy().pick(picks=leftFrontal).plot_topo(\n",
    "            conditions=cond[ii], axes=ax[ii], colorbar=False, vlim=(-50, 50)\n",
    "        )\n",
    "        glmReduced.copy().pick(picks=rightFrontal).plot_topo(\n",
    "            conditions=cond[ii], axes=ax[ii], vlim=(-50, 50)\n",
    "        )\n",
    "else:\n",
    "    glmReduced.copy().pick(picks=leftMotor).plot_topo(\n",
    "        conditions=cond[0], axes=ax, colorbar=False, vlim=(-50, 50)\n",
    "    )\n",
    "    glmReduced.copy().pick(picks=rightMotor).plot_topo(\n",
    "        conditions=cond[0], axes=ax, colorbar=False, vlim=(-50, 50)\n",
    "    )\n",
    "    glmReduced.copy().pick(picks=leftFrontal).plot_topo(\n",
    "        conditions=cond[0], axes=ax, colorbar=False, vlim=(-50, 50)\n",
    "    )\n",
    "    glmReduced.copy().pick(picks=rightFrontal).plot_topo(\n",
    "        conditions=cond[0], axes=ax, vlim=(-50, 50)\n",
    "    )\n",
    "\n",
    "\n",
    "plt.show()"
   ]
  },
  {
   "cell_type": "markdown",
   "id": "7f7f7a1b",
   "metadata": {},
   "source": [
    "#### Writing the condition- and channel-wise model parameter estimates to results table"
   ]
  },
  {
   "cell_type": "code",
   "execution_count": null,
   "id": "87d7835f",
   "metadata": {},
   "outputs": [],
   "source": [
    "results = glmReduced.to_dataframe()\n",
    "for ii in cond:\n",
    "    resCond = results[results.Condition == ii]\n",
    "    for jj in resCond.ch_name:\n",
    "        if len(cond) > 1:\n",
    "            fNIRSresHbO[jj + \" \" + condition + \"(\" + session + ii + \")\"][\n",
    "                fNIRSresHbO.SID == sid\n",
    "            ] = resCond[resCond.ch_name == jj].theta.to_numpy()\n",
    "        else:\n",
    "            fNIRSresHbO[jj + \" \" + condition + \"(\" + session + \")\"][\n",
    "                fNIRSresHbO.SID == sid\n",
    "            ] = resCond[resCond.ch_name == jj].theta.to_numpy()\n",
    "\n",
    "fNIRSresHbO.to_excel(\"FTT_fNIRS_results.xlsx\", index=False)"
   ]
  },
  {
   "cell_type": "code",
   "execution_count": null,
   "id": "29a829fa",
   "metadata": {},
   "outputs": [],
   "source": []
  }
 ],
 "metadata": {
  "kernelspec": {
   "display_name": "Python 3 (ipykernel)",
   "language": "python",
   "name": "python3"
  },
  "language_info": {
   "codemirror_mode": {
    "name": "ipython",
    "version": 3
   },
   "file_extension": ".py",
   "mimetype": "text/x-python",
   "name": "python",
   "nbconvert_exporter": "python",
   "pygments_lexer": "ipython3",
   "version": "3.11.4"
  }
 },
 "nbformat": 4,
 "nbformat_minor": 5
}
