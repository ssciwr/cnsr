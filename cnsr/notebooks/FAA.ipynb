{
 "cells": [
  {
   "cell_type": "markdown",
   "id": "edf3dfe2",
   "metadata": {},
   "source": [
    "## Participant-level analysis pipeline for calculating frontal alpha asymmetry in the *MusEEG* project\n",
    "\n",
    "<span style='color: blue'>Version 1.2 (2023-07-24)<br></span>Created by Dr. Daniel Holt (APKS), modified and extended by Dr. Torsten Wüstenberg (CNSR).\n",
    "\n",
    "**Aim:** Compute Frontal Alpha Asymmetry (FAA) for electrode sites F3, F4, F7 and F8.\n",
    "\n",
    "**Gereral analysis steps:**\n",
    "\n",
    "1) *Specify and load data for analysis*\n",
    "2) *Specify onsets and durations of relevant periods*\n",
    "3) *Re-referencing to an avrage reference*\n",
    "4) *Manual data quality assessment*\n",
    "5) *Compute FAA and save results*\n",
    "\n",
    "\n",
    "## Preparations \n",
    "\n",
    "### Import libraries\n",
    "\n",
    "The analysis pipeline is based on the following libraries. In case of an error in the execution of this cell, probably one or more of the libraries is not installed. In this case, start a terminal in **ANACONDA.NAVIGATOR** *Environments>Terminal* and install the library in question using the command </br><span style='color: red'>*pip install [library name]*</span>."
   ]
  },
  {
   "cell_type": "code",
   "execution_count": null,
   "id": "2a2a5a96",
   "metadata": {},
   "outputs": [],
   "source": [
    "import mne\n",
    "import numpy as np\n",
    "import pandas as pd\n",
    "import matplotlib.pyplot as plt\n",
    "import ipyfilechooser\n",
    "\n",
    "mne.set_log_level(\"ERROR\")  # only show errors (no warnings or information messages)\n",
    "results_csv = \"FAA_Results.csv\"  # save analysis results to this file"
   ]
  },
  {
   "cell_type": "markdown",
   "id": "4e270d92",
   "metadata": {},
   "source": [
    "### Core function for FAA-computation\n",
    "\n",
    "Use the Filter-Hilbert-method to compute signal strength in the Alpha band (8 to 13 Hz), pooled for the left (F3 & F7) and right electrodes (F4 & F8).\n",
    "\n",
    "FAA is calculated using the formula:\n",
    "\n",
    "**FAA = {𝜶(R) - 𝜶(L)} / {𝜶(R) + 𝜶(L)}**"
   ]
  },
  {
   "cell_type": "markdown",
   "id": "9988da9b",
   "metadata": {},
   "source": [
    "### Channel information and display configuration\n",
    "\n",
    "The first line of the cell below enables interactive plots displayed in separate windows. Change to `%matplotlib inline` for non-interactive plots inside this notebook."
   ]
  },
  {
   "cell_type": "code",
   "execution_count": null,
   "id": "3dbf8053",
   "metadata": {},
   "outputs": [],
   "source": [
    "%matplotlib qt\n",
    "ch_type_mapping = {\n",
    "    \"F3\": \"eeg\",\n",
    "    \"F4\": \"eeg\",\n",
    "    \"F7\": \"eeg\",\n",
    "    \"F8\": \"eeg\",\n",
    "    \"vEOG\": \"eog\",\n",
    "    \"hEOG\": \"eog\",\n",
    "}\n",
    "scal = {\"eeg\": 200e-6, \"eog\": 1000e-6}  # use e-6 for display in microvolts"
   ]
  },
  {
   "cell_type": "markdown",
   "id": "f6dec9a5",
   "metadata": {},
   "source": [
    "## Pipeline \n",
    "\n",
    "### 1) Select and load data for analysis\n",
    "\n",
    "Run the cell below and click \"Select\" to choose the BrainVision **.vhdr** file of the data set to be analyzed. The participant ID defaults to the file name, change the line `participant = ...` for setting a different value. Since the analysis focuses on the relative activity of right and left hemispheres, an average reference is suitable despite the small number of electrodes."
   ]
  },
  {
   "cell_type": "code",
   "execution_count": null,
   "id": "c11308ed",
   "metadata": {},
   "outputs": [],
   "source": [
    "fc = ipyfilechooser.FileChooser(\".\")\n",
    "display(fc)"
   ]
  },
  {
   "cell_type": "code",
   "execution_count": null,
   "id": "78c9ba15",
   "metadata": {},
   "outputs": [],
   "source": [
    "participant = fc.selected_filename[:-5]\n",
    "raw = mne.io.read_raw_brainvision(fc.selected, preload=True)\n",
    "raw.set_channel_types(ch_type_mapping)\n",
    "raw.set_eeg_reference(\"average\")\n",
    "raw.filter(l_freq=1, h_freq=None)"
   ]
  },
  {
   "cell_type": "markdown",
   "id": "b55c3d21",
   "metadata": {},
   "source": [
    "### 2) Specify analysis segments\n",
    "\n",
    "Positive music was coded as 'Stimulus/S  1', negative music as 'Stimulus/S  2', each condition occurs twice in the data set. Analyse a segment of 30 to 150 secs (i.e., onset 30 and duration 120 secs) for each piece of music. 'Stimulus/S  3' was a resting phase at the beginning."
   ]
  },
  {
   "cell_type": "code",
   "execution_count": null,
   "id": "e6d2a564",
   "metadata": {},
   "outputs": [],
   "source": [
    "# select all event markers ending in 1, 2 or 3\n",
    "events, _ = mne.events_from_annotations(raw, regexp=\".*[123]$\")\n",
    "# code first and second presentation of each condition separately\n",
    "events[np.where(events[:, 2] == 1)[0][-1], 2] = 10\n",
    "events[np.where(events[:, 2] == 2)[0][-1], 2] = 20\n",
    "event_id = {\"Ruhe\": 3, \"Positiv_1\": 1, \"Positiv_2\": 10, \"Negativ_1\": 2, \"Negativ_2\": 20}\n",
    "# shift onset of analysis epochs by 30 secs\n",
    "events[:, 0] = events[:, 0] + 30000\n",
    "epochs = mne.Epochs(raw, events, event_id, tmax=120, preload=True)\n",
    "epochs.plot(\n",
    "    events=events, scalings=scal, title=\"1/10 = Positiv, 2/20 = Negativ, 3 = Ruhe\"\n",
    ")"
   ]
  },
  {
   "cell_type": "markdown",
   "id": "7722b38b",
   "metadata": {},
   "source": [
    "### 3) Reduce ocular artifacts\n",
    "\n",
    "Due to the robustness of FAA, ocular artifact correction is not required, but it is good standard practice. Use standard regression correction trained on automatically identified EOG events."
   ]
  },
  {
   "cell_type": "code",
   "execution_count": null,
   "id": "9850459e",
   "metadata": {},
   "outputs": [],
   "source": [
    "eog_epochs = mne.preprocessing.create_eog_epochs(raw)\n",
    "eog_evoked = eog_epochs.average(\"all\")\n",
    "model_evoked = mne.preprocessing.EOGRegression(picks=\"eeg\", picks_artifact=\"eog\").fit(\n",
    "    eog_evoked\n",
    ")\n",
    "epochs_clean = model_evoked.apply(epochs)\n",
    "epochs_clean.plot(\n",
    "    events=events, scalings=scal, title=\"1/10 = Positiv, 2/20 = Negativ, 3 = Ruhe\"\n",
    ")"
   ]
  },
  {
   "cell_type": "markdown",
   "id": "82c48451",
   "metadata": {},
   "source": [
    "### 4) Manual data quality assessment\n",
    "\n",
    "Exclude bad blocks based on the plot generated in the previous step."
   ]
  },
  {
   "cell_type": "code",
   "execution_count": null,
   "id": "a84a2db3",
   "metadata": {},
   "outputs": [],
   "source": [
    "bad_epochs_input = input(\n",
    "    \"Bitte geben Sie die /Epoch Number/ auszuschliessender Blöcke ein (durch Kommata getrennt): \"\n",
    ")"
   ]
  },
  {
   "cell_type": "code",
   "execution_count": null,
   "id": "c3a61428",
   "metadata": {},
   "outputs": [],
   "source": [
    "bad_epochs = [int(epoch_num) for epoch_num in bad_epochs_input.split(\",\")]\n",
    "# epochs_clean.drop([int(epoch_num) for epoch_num in bad_epochs.split(',')])\n",
    "# epochs_clean.plot(events=events, scalings = scal, title='1/10 = Positiv, 2/20 = Negativ, 3 = Ruhe')"
   ]
  },
  {
   "cell_type": "markdown",
   "id": "8f672389",
   "metadata": {},
   "source": [
    "### 5) Compute FAA and save results"
   ]
  },
  {
   "cell_type": "code",
   "execution_count": null,
   "id": "962e1db3",
   "metadata": {},
   "outputs": [],
   "source": [
    "alpha = epochs_clean.copy()\n",
    "alpha.filter(l_freq=8, h_freq=13)\n",
    "alpha.apply_hilbert(envelope=True)\n",
    "alpha.plot(scalings=10e-6)\n",
    "left_alpha = np.array([np.mean(epoch) for epoch in alpha.get_data([\"F3\", \"F7\"])])\n",
    "right_alpha = np.array([np.mean(epoch) for epoch in alpha.get_data([\"F4\", \"F8\"])])\n",
    "FAA = (right_alpha - left_alpha) / (right_alpha + left_alpha)\n",
    "FAA[bad_epochs] = np.nan"
   ]
  },
  {
   "cell_type": "markdown",
   "id": "0df44878",
   "metadata": {},
   "source": [
    "**Save results**"
   ]
  },
  {
   "cell_type": "code",
   "execution_count": null,
   "id": "700bc0da",
   "metadata": {},
   "outputs": [],
   "source": [
    "results = pd.read_csv(results_csv)\n",
    "faa_analysis = pd.DataFrame(FAA.round(5).reshape((1, 5)), columns=event_id.keys())\n",
    "faa_analysis.insert(0, \"Vpn\", participant)\n",
    "results = pd.concat([results, faa_analysis])\n",
    "results.to_csv(results_csv, index=False)\n",
    "print(f'Analyse-Ergebnis in \"{results_csv}\" gespeichert.')\n",
    "faa_analysis"
   ]
  },
  {
   "cell_type": "code",
   "execution_count": null,
   "id": "75fc519e",
   "metadata": {},
   "outputs": [],
   "source": []
  }
 ],
 "metadata": {
  "kernelspec": {
   "display_name": "Python 3 (ipykernel)",
   "language": "python",
   "name": "python3"
  },
  "language_info": {
   "codemirror_mode": {
    "name": "ipython",
    "version": 3
   },
   "file_extension": ".py",
   "mimetype": "text/x-python",
   "name": "python",
   "nbconvert_exporter": "python",
   "pygments_lexer": "ipython3",
   "version": "3.11.4"
  }
 },
 "nbformat": 4,
 "nbformat_minor": 5
}
