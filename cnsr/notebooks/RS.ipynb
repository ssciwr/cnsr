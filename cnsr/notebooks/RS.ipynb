{
 "cells": [
  {
   "cell_type": "markdown",
   "id": "00e35bce",
   "metadata": {},
   "source": [
    "### Import libraries"
   ]
  },
  {
   "cell_type": "code",
   "execution_count": null,
   "id": "068d3f70",
   "metadata": {},
   "outputs": [],
   "source": [
    "import warnings\n",
    "\n",
    "warnings.simplefilter(action=\"ignore\")"
   ]
  },
  {
   "cell_type": "code",
   "execution_count": null,
   "id": "894e26c6",
   "metadata": {},
   "outputs": [],
   "source": [
    "import matplotlib.pyplot as plt\n",
    "\n",
    "%matplotlib qt\n",
    "import mne\n",
    "import numpy as np\n",
    "import pandas as pd\n",
    "import os\n",
    "from itertools import compress"
   ]
  },
  {
   "cell_type": "markdown",
   "id": "f520fe5e",
   "metadata": {},
   "source": [
    "### Define ROIs"
   ]
  },
  {
   "cell_type": "code",
   "execution_count": null,
   "id": "78e84ec0",
   "metadata": {},
   "outputs": [],
   "source": [
    "leftMotor = [\n",
    "    \"S1_D1 hbo\",\n",
    "    \"S1_D2 hbo\",\n",
    "    \"S1_D3 hbo\",\n",
    "    \"S2_D1 hbo\",\n",
    "    \"S2_D3 hbo\",\n",
    "    \"S2_D4 hbo\",\n",
    "    \"S3_D2 hbo\",\n",
    "    \"S3_D3 hbo\",\n",
    "    \"S4_D3 hbo\",\n",
    "    \"S4_D4 hbo\",\n",
    "]\n",
    "rightMotor = [\n",
    "    \"S5_D5 hbo\",\n",
    "    \"S5_D6 hbo\",\n",
    "    \"S5_D7 hbo\",\n",
    "    \"S6_D5 hbo\",\n",
    "    \"S6_D7 hbo\",\n",
    "    \"S6_D8 hbo\",\n",
    "    \"S7_D6 hbo\",\n",
    "    \"S7_D7 hbo\",\n",
    "    \"S8_D7 hbo\",\n",
    "    \"S8_D8 hbo\",\n",
    "]\n",
    "leftFrontal = [\n",
    "    \"S9_D9 hbo\",\n",
    "    \"S9_D10 hbo\",\n",
    "    \"S10_D9 hbo\",\n",
    "    \"S10_D11 hbo\",\n",
    "    \"S11_D9 hbo\",\n",
    "    \"S11_D11 hbo\",\n",
    "    \"S11_D12 hbo\",\n",
    "    \"S12_D10 hbo\",\n",
    "    \"S12_D13 hbo\",\n",
    "]\n",
    "rightFrontal = [\n",
    "    \"S13_D11 hbo\",\n",
    "    \"S13_D14 hbo\",\n",
    "    \"S14_D12 hbo\",\n",
    "    \"S14_D14 hbo\",\n",
    "    \"S14_D15 hbo\",\n",
    "    \"S15_D13 hbo\",\n",
    "    \"S15_D15 hbo\",\n",
    "    \"S16_D14 hbo\",\n",
    "    \"S16_D15 hbo\",\n",
    "]\n",
    "medialFrontal = [\"S12_D12 hbo\", \"S13_D12 hbo\"]"
   ]
  },
  {
   "cell_type": "markdown",
   "id": "8fc158d6",
   "metadata": {},
   "source": [
    "### Load results output structure\n",
    "(1) HbO signal mean or median\n",
    "\n",
    "(2) HbO signal variance"
   ]
  },
  {
   "cell_type": "code",
   "execution_count": null,
   "id": "fd762a1f",
   "metadata": {},
   "outputs": [],
   "source": [
    "fNIRSresHbO = pd.read_excel(\"RestingStateResults_June2023.xlsx\")\n",
    "fNIRSvarHbO = pd.read_excel(\"RestingStateVar_June2023.xlsx\")\n",
    "fNIRSrawHbO = pd.read_excel(\"RestingStateRaw_June2023.xlsx\")"
   ]
  },
  {
   "cell_type": "markdown",
   "id": "387105fa",
   "metadata": {},
   "source": [
    "### Load sample info"
   ]
  },
  {
   "cell_type": "code",
   "execution_count": null,
   "id": "5634ded4",
   "metadata": {},
   "outputs": [],
   "source": [
    "sid = input(\"SID:\")\n",
    "condition = input(\"Bedingung (HIIT, nonHIIT):\")\n",
    "session = input(\"Messung (base, r1, r2, r3):\")\n",
    "dataDir = input(\"Datenverzeichnis:\")\n",
    "parameter = input(\"Parameter (mean, median):\")"
   ]
  },
  {
   "cell_type": "markdown",
   "id": "538d3342",
   "metadata": {},
   "source": [
    "### Load raw fNIRS intensities"
   ]
  },
  {
   "cell_type": "code",
   "execution_count": null,
   "id": "0488ff36",
   "metadata": {},
   "outputs": [],
   "source": [
    "raw_intensity = mne.io.read_raw_nirx(\n",
    "    os.getcwd() + \"/\" + sid + \"/\" + condition + \"/\" + dataDir, verbose=True\n",
    ")\n",
    "raw_intensity.load_data()"
   ]
  },
  {
   "cell_type": "markdown",
   "id": "c050a918",
   "metadata": {},
   "source": [
    "### Set block duration and show raw data (only for quality assessment)"
   ]
  },
  {
   "cell_type": "code",
   "execution_count": null,
   "id": "bcc64dbe",
   "metadata": {},
   "outputs": [],
   "source": [
    "# raw_intensity.annotations.delete([1,2,3,4])\n",
    "raw_intensity.annotations.set_durations(240)\n",
    "raw_intensity.plot(duration=300)"
   ]
  },
  {
   "cell_type": "markdown",
   "id": "2fe5b406",
   "metadata": {},
   "source": [
    "### Converting from raw intensity to optical density\n",
    "The raw intensity values are then converted to optical density."
   ]
  },
  {
   "cell_type": "code",
   "execution_count": null,
   "id": "cc8227c5",
   "metadata": {},
   "outputs": [],
   "source": [
    "raw_od = mne.preprocessing.nirs.optical_density(raw_intensity)\n",
    "raw_od.plot(duration=300)"
   ]
  },
  {
   "cell_type": "markdown",
   "id": "9e9acfed",
   "metadata": {},
   "source": [
    "### Evaluating the quality of the data\n",
    "\n",
    "At this stage we can quantify the quality of the coupling between the scalp and the optodes using the scalp coupling index (sci). The sci ranges from 0 (no optical transmission along an optical path) to 1 (full optical transmission). This method looks for the presence of a prominent synchronous signal (the heart rate) in the frequency range of cardiac signals across both photodetected signals."
   ]
  },
  {
   "cell_type": "code",
   "execution_count": null,
   "id": "e048397f",
   "metadata": {},
   "outputs": [],
   "source": [
    "sci = mne.preprocessing.nirs.scalp_coupling_index(raw_od)\n",
    "plt.figure()\n",
    "plt.hist(sci)\n",
    "plt.xlabel(\"Scalp Coupling Index\")\n",
    "plt.ylabel(\"Count\")\n",
    "plt.show()"
   ]
  },
  {
   "cell_type": "markdown",
   "id": "38f02481",
   "metadata": {},
   "source": [
    "### Labelling all channes with an sci < 0.5 as bad"
   ]
  },
  {
   "cell_type": "code",
   "execution_count": null,
   "id": "0e2a59c2",
   "metadata": {},
   "outputs": [],
   "source": [
    "raw_od.info[\"bads\"] = raw_od.info[\"bads\"] + list(compress(raw_od.ch_names, sci < 0.5))\n",
    "print(f'Bad channels: {raw_od.info[\"bads\"]}')"
   ]
  },
  {
   "cell_type": "markdown",
   "id": "2d73f718",
   "metadata": {},
   "source": [
    "### Artifact correction\n",
    "Apply temporal derivative distribution repair\n",
    "This approach corrects baseline shift and spike artifacts without the need for any user-supplied parameters\n",
    "according to:\n",
    "\n",
    "Frank A Fishburn, Ruth S Ludlum, Chandan J Vaidya, and Andrei V Medvedev. Temporal derivative distribution repair (tddr): a motion correction method for fNIRS. NeuroImage, 184:171–179, 2019. doi:10.1016/j.neuroimage.2018.09.025."
   ]
  },
  {
   "cell_type": "code",
   "execution_count": null,
   "id": "87265773",
   "metadata": {},
   "outputs": [],
   "source": [
    "corrected_tddr = mne.preprocessing.nirs.temporal_derivative_distribution_repair(raw_od)\n",
    "corrected_tddr.plot(duration=300)"
   ]
  },
  {
   "cell_type": "markdown",
   "id": "d69d45fd",
   "metadata": {},
   "source": [
    "### Converting from optical density to haemoglobin\n",
    "Convert the optical density data to haemoglobin concentration using the modified Beer-Lambert law."
   ]
  },
  {
   "cell_type": "code",
   "execution_count": null,
   "id": "d9052d7f",
   "metadata": {},
   "outputs": [],
   "source": [
    "raw_haemo = mne.preprocessing.nirs.beer_lambert_law(corrected_tddr, ppf=0.1)\n",
    "raw_haemo.plot(duration=300)"
   ]
  },
  {
   "cell_type": "markdown",
   "id": "b0c5568a",
   "metadata": {},
   "source": [
    "### Filtering\n",
    "\n",
    "Removing heart rate from signal. The haemodynamic response has (in our case) frequency content predominantly below about 0.05 Hz. An increase in activity around 1 Hz can be seen in the data that is due to the person’s heart beat and is unwanted. So we use a low pass filter to remove this. A high pass filter is also included to remove slow drifts in the data."
   ]
  },
  {
   "cell_type": "code",
   "execution_count": null,
   "id": "1ded18ea",
   "metadata": {},
   "outputs": [],
   "source": [
    "raw_haemo_unfiltered = raw_haemo.copy()\n",
    "raw_haemo.filter(0.05, 0.5, h_trans_bandwidth=0.2, l_trans_bandwidth=0.02)\n",
    "for when, _raw in dict(Before=raw_haemo_unfiltered, After=raw_haemo).items():\n",
    "    fig = _raw.compute_psd().plot(average=True, picks=\"data\", exclude=\"bads\")\n",
    "    fig.suptitle(f\"{when} filtering\", weight=\"bold\", size=\"x-large\")\n",
    "    fig.subplots_adjust(top=0.88)"
   ]
  },
  {
   "cell_type": "code",
   "execution_count": null,
   "id": "871cd3f6",
   "metadata": {},
   "outputs": [],
   "source": [
    "raw_haemo.plot(duration=300)"
   ]
  },
  {
   "cell_type": "markdown",
   "id": "e8fe0a6e",
   "metadata": {},
   "source": [
    "### Extract HbO values within marked segment"
   ]
  },
  {
   "cell_type": "markdown",
   "id": "8c18ca0d",
   "metadata": {},
   "source": [
    "Define segment data points"
   ]
  },
  {
   "cell_type": "code",
   "execution_count": null,
   "id": "3c828ef1",
   "metadata": {},
   "outputs": [],
   "source": [
    "start_resting = 30 * 5\n",
    "end_resting = 270 * 5"
   ]
  },
  {
   "cell_type": "markdown",
   "id": "0a38e0d0",
   "metadata": {},
   "source": [
    "Get signal within ROIs"
   ]
  },
  {
   "cell_type": "code",
   "execution_count": null,
   "id": "58c32cf4",
   "metadata": {},
   "outputs": [],
   "source": [
    "oxy_LeftMotor = raw_haemo.get_data(leftMotor, start_resting, end_resting)\n",
    "oxy_RightMotor = raw_haemo.get_data(rightMotor, start_resting, end_resting)\n",
    "oxy_LeftFrontal = raw_haemo.get_data(leftFrontal, start_resting, end_resting)\n",
    "oxy_RightFrontal = raw_haemo.get_data(rightFrontal, start_resting, end_resting)\n",
    "oxy_MedialFrontal = raw_haemo.get_data(medialFrontal, start_resting, end_resting)"
   ]
  },
  {
   "cell_type": "markdown",
   "id": "a44dc630",
   "metadata": {},
   "source": [
    "Log parameter raw values (RestingStateRaw_June2023.xlsx) \n",
    "\n",
    "and time series variances (RestingStateVar_June2023.xlsx)"
   ]
  },
  {
   "cell_type": "code",
   "execution_count": null,
   "id": "1d32388a",
   "metadata": {},
   "outputs": [],
   "source": [
    "if parameter == \"median\":\n",
    "    fNIRSrawHbO[condition + \"_FM\" + session][fNIRSrawHbO.SID == sid] = np.median(\n",
    "        oxy_MedialFrontal\n",
    "    )\n",
    "    fNIRSrawHbO[condition + \"_FL\" + session][fNIRSrawHbO.SID == sid] = np.median(\n",
    "        oxy_LeftFrontal\n",
    "    )\n",
    "    fNIRSrawHbO[condition + \"_FR\" + session][fNIRSrawHbO.SID == sid] = np.median(\n",
    "        oxy_RightFrontal\n",
    "    )\n",
    "    fNIRSrawHbO[condition + \"_ML\" + session][fNIRSrawHbO.SID == sid] = np.median(\n",
    "        oxy_LeftMotor\n",
    "    )\n",
    "    fNIRSrawHbO[condition + \"_MR\" + session][fNIRSrawHbO.SID == sid] = np.median(\n",
    "        oxy_RightMotor\n",
    "    )\n",
    "if parameter == \"mean\":\n",
    "    fNIRSrawHbO[condition + \"_FM\" + session][fNIRSrawHbO.SID == sid] = np.mean(\n",
    "        oxy_MedialFrontal\n",
    "    )\n",
    "    fNIRSrawHbO[condition + \"_FL\" + session][fNIRSrawHbO.SID == sid] = np.mean(\n",
    "        oxy_LeftFrontal\n",
    "    )\n",
    "    fNIRSrawHbO[condition + \"_FR\" + session][fNIRSrawHbO.SID == sid] = np.mean(\n",
    "        oxy_RightFrontal\n",
    "    )\n",
    "    fNIRSrawHbO[condition + \"_ML\" + session][fNIRSrawHbO.SID == sid] = np.mean(\n",
    "        oxy_LeftMotor\n",
    "    )\n",
    "    fNIRSrawHbO[condition + \"_MR\" + session][fNIRSrawHbO.SID == sid] = np.mean(\n",
    "        oxy_RightMotor\n",
    "    )\n",
    "\n",
    "fNIRSrawHbO.to_excel(\"RestingStateRaw_June2023.xlsx\")\n",
    "\n",
    "\n",
    "fNIRSvarHbO[condition + \"_FM\" + session][fNIRSvarHbO.SID == sid] = np.var(\n",
    "    oxy_MedialFrontal\n",
    ")\n",
    "fNIRSvarHbO[condition + \"_FL\" + session][fNIRSvarHbO.SID == sid] = np.var(\n",
    "    oxy_LeftFrontal\n",
    ")\n",
    "fNIRSvarHbO[condition + \"_FR\" + session][fNIRSvarHbO.SID == sid] = np.var(\n",
    "    oxy_RightFrontal\n",
    ")\n",
    "fNIRSvarHbO[condition + \"_ML\" + session][fNIRSvarHbO.SID == sid] = np.var(oxy_LeftMotor)\n",
    "fNIRSvarHbO[condition + \"_MR\" + session][fNIRSvarHbO.SID == sid] = np.var(\n",
    "    oxy_RightMotor\n",
    ")\n",
    "\n",
    "fNIRSvarHbO.to_excel(\"RestingStateVar_June2023.xlsx\")"
   ]
  },
  {
   "cell_type": "markdown",
   "id": "ca7a259b",
   "metadata": {},
   "source": [
    "Data propcessing according to Ishikawa et al.: Subtract channel-wise min values\n",
    "\n",
    "and log parameter values (RestingStateResults_June2023.xlsx)"
   ]
  },
  {
   "cell_type": "code",
   "execution_count": null,
   "id": "58bce266",
   "metadata": {},
   "outputs": [],
   "source": [
    "for ii in range(0, len(oxy_LeftMotor)):\n",
    "    oxy_LeftMotor[ii, :] = oxy_LeftMotor[ii, :] - np.min(oxy_LeftMotor[ii, :])\n",
    "for ii in range(0, len(oxy_RightMotor)):\n",
    "    oxy_RightMotor[ii, :] = oxy_RightMotor[ii, :] - np.min(oxy_RightMotor[ii, :])\n",
    "for ii in range(0, len(oxy_LeftFrontal)):\n",
    "    oxy_LeftFrontal[ii, :] = oxy_LeftFrontal[ii, :] - np.min(oxy_LeftFrontal[ii, :])\n",
    "for ii in range(0, len(oxy_RightFrontal)):\n",
    "    oxy_RightFrontal[ii, :] = oxy_RightFrontal[ii, :] - np.min(oxy_RightFrontal[ii, :])\n",
    "for ii in range(0, len(oxy_MedialFrontal)):\n",
    "    oxy_MedialFrontal[ii, :] = oxy_MedialFrontal[ii, :] - np.min(\n",
    "        oxy_MedialFrontal[ii, :]\n",
    "    )"
   ]
  },
  {
   "cell_type": "code",
   "execution_count": null,
   "id": "e8c68605",
   "metadata": {},
   "outputs": [],
   "source": [
    "if parameter == \"median\":\n",
    "    fNIRSresHbO[condition + \"_FM\" + session][fNIRSresHbO.SID == sid] = np.median(\n",
    "        oxy_MedialFrontal\n",
    "    )\n",
    "    fNIRSresHbO[condition + \"_FL\" + session][fNIRSresHbO.SID == sid] = np.median(\n",
    "        oxy_LeftFrontal\n",
    "    )\n",
    "    fNIRSresHbO[condition + \"_FR\" + session][fNIRSresHbO.SID == sid] = np.median(\n",
    "        oxy_RightFrontal\n",
    "    )\n",
    "    fNIRSresHbO[condition + \"_ML\" + session][fNIRSresHbO.SID == sid] = np.median(\n",
    "        oxy_LeftMotor\n",
    "    )\n",
    "    fNIRSresHbO[condition + \"_MR\" + session][fNIRSresHbO.SID == sid] = np.median(\n",
    "        oxy_RightMotor\n",
    "    )\n",
    "if parameter == \"mean\":\n",
    "    fNIRSresHbO[condition + \"_FM\" + session][fNIRSresHbO.SID == sid] = np.mean(\n",
    "        oxy_MedialFrontal\n",
    "    )\n",
    "    fNIRSresHbO[condition + \"_FL\" + session][fNIRSresHbO.SID == sid] = np.mean(\n",
    "        oxy_LeftFrontal\n",
    "    )\n",
    "    fNIRSresHbO[condition + \"_FR\" + session][fNIRSresHbO.SID == sid] = np.mean(\n",
    "        oxy_RightFrontal\n",
    "    )\n",
    "    fNIRSresHbO[condition + \"_ML\" + session][fNIRSresHbO.SID == sid] = np.mean(\n",
    "        oxy_LeftMotor\n",
    "    )\n",
    "    fNIRSresHbO[condition + \"_MR\" + session][fNIRSresHbO.SID == sid] = np.mean(\n",
    "        oxy_RightMotor\n",
    "    )\n",
    "\n",
    "fNIRSresHbO.to_excel(\"RestingStateResults_June2023.xlsx\")"
   ]
  }
 ],
 "metadata": {
  "kernelspec": {
   "display_name": "Python 3 (ipykernel)",
   "language": "python",
   "name": "python3"
  },
  "language_info": {
   "codemirror_mode": {
    "name": "ipython",
    "version": 3
   },
   "file_extension": ".py",
   "mimetype": "text/x-python",
   "name": "python",
   "nbconvert_exporter": "python",
   "pygments_lexer": "ipython3",
   "version": "3.9.13"
  }
 },
 "nbformat": 4,
 "nbformat_minor": 5
}
